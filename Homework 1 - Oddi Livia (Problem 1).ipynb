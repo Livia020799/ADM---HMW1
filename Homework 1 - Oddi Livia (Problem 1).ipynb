{
 "cells": [
  {
   "cell_type": "markdown",
   "id": "6a1d95ce-6e75-422b-9f2f-d2c7e6e43ea4",
   "metadata": {},
   "source": [
    "# Homework 1 - Problem 1"
   ]
  },
  {
   "cell_type": "markdown",
   "id": "8f1f9e79-c784-4104-a83e-3e088687bdc5",
   "metadata": {},
   "source": [
    "## Introduction\n",
    "#### Ex 1: Say \"Hello, World!\" With Python"
   ]
  },
  {
   "cell_type": "code",
   "execution_count": null,
   "id": "7938da8e-523d-49f1-aadb-b59988b7dcf3",
   "metadata": {},
   "outputs": [],
   "source": [
    "if __name__ == '__main__':\n",
    "    print(\"Hello, World!\")"
   ]
  },
  {
   "cell_type": "markdown",
   "id": "93d8d762-ab92-4e9b-bce1-0487d3fb4749",
   "metadata": {},
   "source": [
    "### Ex 2: Python If-Else"
   ]
  },
  {
   "cell_type": "code",
   "execution_count": null,
   "id": "8baa0d2f-94b4-4dbe-8d48-42cf21be9b1f",
   "metadata": {},
   "outputs": [],
   "source": [
    "import math\n",
    "import os\n",
    "import random\n",
    "import re\n",
    "import sys\n",
    "\n",
    "\n",
    "\n",
    "if __name__ == '__main__':\n",
    "    n = int(input().strip())\n",
    "if n%2 !=0 :\n",
    "    print('Weird')\n",
    "else:\n",
    "    if 2<=n<=5:\n",
    "        print('Not Weird')\n",
    "    if 6<=n<=20:\n",
    "        print('Weird')\n",
    "    if n > 20:\n",
    "        print('Not Weird')"
   ]
  },
  {
   "cell_type": "markdown",
   "id": "0ad3001d-b3da-4c82-b44d-5fb6194f2d3a",
   "metadata": {},
   "source": [
    "### Ex 3: Arithmetic Operators"
   ]
  },
  {
   "cell_type": "code",
   "execution_count": null,
   "id": "ad4bca36-a3a0-4156-9830-c856cfd91851",
   "metadata": {},
   "outputs": [],
   "source": [
    "if __name__ == '__main__':\n",
    "    a = int(input())\n",
    "    b = int(input())\n",
    "    print(a+b)\n",
    "    print(a-b)\n",
    "    print(a*b)"
   ]
  },
  {
   "cell_type": "markdown",
   "id": "9253469c-57f0-46ce-bd11-82cd49acb2ce",
   "metadata": {},
   "source": [
    "### Ex 4: Python: Division"
   ]
  },
  {
   "cell_type": "code",
   "execution_count": null,
   "id": "315bcebb-0557-4844-b929-76a85604e3f6",
   "metadata": {},
   "outputs": [],
   "source": [
    "if __name__ == '__main__':\n",
    "    a = int(input())\n",
    "    b = int(input())\n",
    "    print(a//b)\n",
    "    print(a/b)"
   ]
  },
  {
   "cell_type": "markdown",
   "id": "1dc50af0-6374-402e-b232-41e7df63042d",
   "metadata": {},
   "source": [
    "### Ex 5: Loops"
   ]
  },
  {
   "cell_type": "code",
   "execution_count": null,
   "id": "fbddfd8a-0102-4b6e-94e7-dd6f74e6a19a",
   "metadata": {},
   "outputs": [],
   "source": [
    "if __name__ == '__main__':\n",
    "    n = int(input())\n",
    "    for i in range(0,n):\n",
    "        print(i**2)"
   ]
  },
  {
   "cell_type": "markdown",
   "id": "f8164b80-81c9-464f-a62b-ee665fa38c34",
   "metadata": {},
   "source": [
    "### Ex 6: Write a function"
   ]
  },
  {
   "cell_type": "code",
   "execution_count": null,
   "id": "9781a935-80a3-4833-a876-65dded792757",
   "metadata": {},
   "outputs": [],
   "source": [
    "def is_leap(year):\n",
    "    leap = False\n",
    "    if year%4 == 0:\n",
    "        leap = True\n",
    "    if year%4 == 0 and year%100 == 0:\n",
    "        leap = False\n",
    "    if year%4 == 0 and year%100 == 0 and year%400 == 0:\n",
    "        leap = True\n",
    "    return leap\n",
    "\n",
    "year = int(input())\n",
    "print(is_leap(year))"
   ]
  },
  {
   "cell_type": "markdown",
   "id": "97e5f76b-bfb5-4fc2-a544-c4715a4f5ef6",
   "metadata": {},
   "source": [
    "### Ex 7: Print function"
   ]
  },
  {
   "cell_type": "code",
   "execution_count": null,
   "id": "c11c77bb-849d-4a6a-8c5a-25d9b65689ac",
   "metadata": {},
   "outputs": [],
   "source": [
    "if __name__ == '__main__':\n",
    "    n = int(input())\n",
    "    i = 0\n",
    "    s = []\n",
    "    while (i < n):\n",
    "        i+=1\n",
    "        s.append(i)\n",
    "        l = ''.join(str(x) for x in s)\n",
    "    print(l)"
   ]
  },
  {
   "cell_type": "markdown",
   "id": "c8d2cfa4-6425-406f-8b36-eac24d8b1109",
   "metadata": {},
   "source": [
    "## Data types\n",
    "### Ex 1: List Comprehensions"
   ]
  },
  {
   "cell_type": "code",
   "execution_count": null,
   "id": "ff703a4f-0174-4298-a10e-325bd9d7973d",
   "metadata": {},
   "outputs": [],
   "source": [
    "if __name__ == '__main__':\n",
    "    x = int(input())\n",
    "    y = int(input())\n",
    "    z = int(input())\n",
    "    n = int(input())\n",
    "    mylist = []\n",
    "    mylist = [[a,b,c] for a in range(x+1) for b in range(y+1) for c in range(z+1) if a+b+c != n]\n",
    "    print (mylist)"
   ]
  },
  {
   "cell_type": "markdown",
   "id": "84f9039b-0116-47d4-84b4-199cecb624c2",
   "metadata": {},
   "source": [
    "### Ex 2: Find the Runner-Up Score!"
   ]
  },
  {
   "cell_type": "code",
   "execution_count": null,
   "id": "f2c2f33f-e77e-4fcf-803f-56041b61a190",
   "metadata": {},
   "outputs": [],
   "source": [
    "if __name__ == '__main__':\n",
    "    n = int(input())\n",
    "    arr = map(int, input().split())\n",
    "    i = 0\n",
    "    array = list(arr)\n",
    "    if 2 <= n <=10 and -100 <= array[i] <= 100:\n",
    "        array_new = list(set(array))\n",
    "        array_new.sort()\n",
    "        c = array_new[-2]\n",
    "        print(c)"
   ]
  },
  {
   "cell_type": "markdown",
   "id": "055064ad-3832-4835-aa25-a765471958b3",
   "metadata": {},
   "source": [
    "### Ex 3: Nested Lists"
   ]
  },
  {
   "cell_type": "code",
   "execution_count": null,
   "id": "4cc1a493-88fc-49f8-aef4-40589a07afc1",
   "metadata": {},
   "outputs": [],
   "source": [
    "if __name__ == '__main__':\n",
    "    N = int(input())\n",
    "    records = []\n",
    "    records_name = []\n",
    "    records_score = []\n",
    "    if 2 <= N <= 5:\n",
    "        for i in range(N):\n",
    "            name = input()\n",
    "            score = float(input())\n",
    "            records.append([name, score])\n",
    "            \n",
    "    _records = set([score for name, score in records]) #sort by grade\n",
    "    sorted_records = sorted(_records)\n",
    "    second_lowest = sorted_records[1]\n",
    "    \n",
    "    students_name = []\n",
    "    for name, score in records:\n",
    "        if score == second_lowest: \n",
    "            students_name.append(name)\n",
    "            \n",
    "    print(*sorted(students_name), sep = '\\n')"
   ]
  },
  {
   "cell_type": "markdown",
   "id": "1b1bb327-79ed-4e7b-b34c-74ad98e107ab",
   "metadata": {},
   "source": [
    "### Ex 4: Finding the percentage"
   ]
  },
  {
   "cell_type": "code",
   "execution_count": null,
   "id": "7237257b-16d8-441e-a291-fe4eb9ecf561",
   "metadata": {},
   "outputs": [],
   "source": [
    "if __name__ == '__main__':\n",
    "    n = int(input())\n",
    "    student_marks = {}\n",
    "    for _ in range(n):\n",
    "        name, *line = input().split()\n",
    "        scores = list(map(float, line))\n",
    "        student_marks[name] = scores\n",
    "    query_name = input()\n",
    "    \n",
    "    if query_name in student_marks:\n",
    "        result = ((float(student_marks[query_name][0]) + float(student_marks[query_name][1]) + float(student_marks[query_name][2]))/3)\n",
    "print('{0:.2f}'.format(result))"
   ]
  },
  {
   "cell_type": "markdown",
   "id": "11adfbba-024f-4e57-a637-923edebff94a",
   "metadata": {},
   "source": [
    "### Ex 5: Lists"
   ]
  },
  {
   "cell_type": "code",
   "execution_count": null,
   "id": "31bff0a2-ef94-4946-947a-3618ee3ce4ca",
   "metadata": {},
   "outputs": [],
   "source": [
    "if __name__ == '__main__':\n",
    "    N = int(input())\n",
    "list = []\n",
    "for i in range(N):\n",
    "    inp = input().split()\n",
    "    if inp[0] == \"insert\":\n",
    "        list.insert(int(inp[1]), int(inp[2]))\n",
    "    if inp[0] == \"print\":\n",
    "        print(list)\n",
    "    if inp[0] == \"remove\":\n",
    "        list.remove(int(inp[1]))\n",
    "    if inp[0] == \"append\":\n",
    "        list.append(int(inp[1]))\n",
    "    if inp[0] == \"sort\":\n",
    "        list.sort()\n",
    "    if inp[0] == \"pop\":\n",
    "        list.pop() #if given no argument pop removes the last elemement\n",
    "    if inp[0] == \"reverse\":\n",
    "        list.reverse()"
   ]
  },
  {
   "cell_type": "markdown",
   "id": "8c0660c1-95e3-4554-9275-ca0df06c0148",
   "metadata": {},
   "source": [
    "### Ex 6: Tuples"
   ]
  },
  {
   "cell_type": "code",
   "execution_count": null,
   "id": "b7bc232d-e167-41a6-af4a-adb53706cf07",
   "metadata": {},
   "outputs": [],
   "source": [
    "if __name__ == '__main__':\n",
    "    n = int(input())\n",
    "    integer_list = map(int, input().split())\n",
    "    #lista = []\n",
    "    #for i in range(n):\n",
    "    #    lista.append(i)\n",
    "    #    i +=1\n",
    "    #t = tuple(lista)\n",
    "    print(hash(tuple(integer_list)))"
   ]
  },
  {
   "cell_type": "markdown",
   "id": "e7b3a622-3156-46c3-806c-f3c859ef9772",
   "metadata": {},
   "source": [
    "## Strings\n",
    "### Ex 1: sWAP cASE"
   ]
  },
  {
   "cell_type": "code",
   "execution_count": null,
   "id": "c5364f3e-4fca-47ea-96cc-e6ab391c132b",
   "metadata": {},
   "outputs": [],
   "source": [
    "def swap_case(s):\n",
    "    new = \"\"\n",
    "    for i in s:\n",
    "        if i.islower() == True:\n",
    "            new += (i.upper())     \n",
    "        elif i.isupper() == True:\n",
    "            new += (i.lower())\n",
    "        else:\n",
    "            new += (i)      \n",
    "    return new\n",
    "\n",
    "if __name__ == '__main__':\n",
    "    s = input()\n",
    "    result = swap_case(s)\n",
    "    print(result)"
   ]
  },
  {
   "cell_type": "markdown",
   "id": "5ea2b186-5eab-4cba-ac98-511ee6cb664b",
   "metadata": {},
   "source": [
    "### Ex 2: What's your name?"
   ]
  },
  {
   "cell_type": "code",
   "execution_count": null,
   "id": "2a90c5d4-1b9b-445b-a571-ea01b82397c7",
   "metadata": {},
   "outputs": [],
   "source": [
    "def print_full_name(first, last):\n",
    "    # Write your code here\n",
    "    print(\"Hello \"+first+\" \"+last+\"! You just delved into python.\")\n",
    "if __name__ == '__main__':\n",
    "    first_name = input()\n",
    "    last_name = input()\n",
    "    print_full_name(first_name, last_name)"
   ]
  },
  {
   "cell_type": "markdown",
   "id": "5340ca14-9f98-41c7-ad0e-526394048c84",
   "metadata": {},
   "source": [
    "### Ex 3: Mutations"
   ]
  },
  {
   "cell_type": "code",
   "execution_count": null,
   "id": "f2aaa92c-38d2-4511-b64b-22aaf4b1ea56",
   "metadata": {},
   "outputs": [],
   "source": [
    "def mutate_string(string, position, character):\n",
    "    ls = list(string)\n",
    "    ls[position] = character\n",
    "    string = ''.join(ls)\n",
    "    return string\n",
    "\n",
    "if __name__ == '__main__':\n",
    "    s = input()\n",
    "    i, c = input().split()\n",
    "    s_new = mutate_string(s, int(i), c)\n",
    "    print(s_new)"
   ]
  },
  {
   "cell_type": "markdown",
   "id": "1a5b03fd-72cd-4227-b688-1fd43308d724",
   "metadata": {},
   "source": [
    "### Ex 4: String Validators"
   ]
  },
  {
   "cell_type": "code",
   "execution_count": null,
   "id": "7955102f-313f-428f-bba9-745105260104",
   "metadata": {},
   "outputs": [],
   "source": [
    "if __name__ == '__main__':\n",
    "    s = input()\n",
    "if 0 < len(s) < 1000:\n",
    "    print(any(i.isalnum() for i in s))\n",
    "\n",
    "    print(any(i.isalpha() for i in s))\n",
    "\n",
    "    print(any(i.isdigit() for i in s))\n",
    "\n",
    "    print(any(i.islower() for i in s))\n",
    "\n",
    "    print(any(i.isupper() for i in s))"
   ]
  },
  {
   "cell_type": "markdown",
   "id": "0869b513-e4b1-4214-84f8-86f380e65707",
   "metadata": {},
   "source": [
    "### Ex 5: Deigner Door Mat"
   ]
  },
  {
   "cell_type": "code",
   "execution_count": null,
   "id": "ddfd56c0-a9f5-4ded-afcd-78b1d35599da",
   "metadata": {},
   "outputs": [],
   "source": [
    "N, M = map(int,input().split(\" \"))\n",
    "\n",
    "if 5 < N < 101 and 15 < M < 303 and N%2 != 0:\n",
    "    for i in range((N-1)//2):\n",
    "        print(('.|.'*i).rjust((M//2)-1, '-')+ '.|.' + ('.|.'*i).ljust((M//2)-1, '-'))\n",
    "    \n",
    "    print(('WELCOME'.center(M, '-')))\n",
    "    \n",
    "    for i in range((N-1)//2):\n",
    "        print(('.|.'*((N//2)-i-1)).rjust((M//2)-1, '-')+ '.|.' + ('.|.'*((N//2)-i-1)).ljust((M//2)-1, '-'))\n"
   ]
  },
  {
   "cell_type": "markdown",
   "id": "5b017082-099a-4b52-ba75-cfbb7d233392",
   "metadata": {},
   "source": [
    "### Ex 6: Text Alignment"
   ]
  },
  {
   "cell_type": "code",
   "execution_count": null,
   "id": "302fef4c-949e-4397-a9bf-9d6ac8e95dbf",
   "metadata": {},
   "outputs": [],
   "source": [
    "#Replace all ______ with rjust, ljust or center. \n",
    "\n",
    "thickness = int(input()) #This must be an odd number\n",
    "c = 'H'\n",
    "\n",
    "#Top Cone\n",
    "for i in range(thickness):\n",
    "    print((c*i).rjust(thickness-1)+c+(c*i).ljust(thickness-1))\n",
    "\n",
    "#Top Pillars\n",
    "for i in range(thickness+1):\n",
    "    print((c*thickness).center(thickness*2)+(c*thickness).center(thickness*6))\n",
    "\n",
    "#Middle Belt\n",
    "for i in range((thickness+1)//2):\n",
    "    print((c*thickness*5).center(thickness*6))    \n",
    "\n",
    "#Bottom Pillars\n",
    "for i in range(thickness+1):\n",
    "    print((c*thickness).center(thickness*2)+(c*thickness).center(thickness*6))    \n",
    "\n",
    "#Bottom Cone\n",
    "for i in range(thickness):\n",
    "    print(((c*(thickness-i-1)).rjust(thickness)+c+(c*(thickness-i-1)).ljust(thickness)).rjust(thickness*6))"
   ]
  },
  {
   "cell_type": "markdown",
   "id": "32947007-cda2-432c-841a-3a113a7eb1cb",
   "metadata": {},
   "source": [
    "### Ex 7: String Split and Join"
   ]
  },
  {
   "cell_type": "code",
   "execution_count": null,
   "id": "d86d79e0-f505-46c6-87ac-16e17f981b3c",
   "metadata": {},
   "outputs": [],
   "source": [
    "def split_and_join(line):\n",
    "    line = line.split(\" \")\n",
    "    line = \"-\".join(line)\n",
    "    return(line)\n",
    "    # write your code here\n",
    "\n",
    "if __name__ == '__main__':\n",
    "    line = input()\n",
    "    result = split_and_join(line)\n",
    "    print(result)"
   ]
  },
  {
   "cell_type": "markdown",
   "id": "5abebb6e-c40f-457e-8f20-f5b472295914",
   "metadata": {},
   "source": [
    "### Ex 8: Text Wrap"
   ]
  },
  {
   "cell_type": "code",
   "execution_count": null,
   "id": "c5c32409-168c-4645-a931-36e770999d8f",
   "metadata": {},
   "outputs": [],
   "source": [
    "import textwrap\n",
    "\n",
    "def wrap(string, max_width):\n",
    "    if 0 < len(string) < 1000 and 0 < max_width < len(string):\n",
    "        result = textwrap.fill(string, max_width)\n",
    "    return result\n",
    "\n",
    "if __name__ == '__main__':\n",
    "    string, max_width = input(), int(input())\n",
    "    result = wrap(string, max_width)\n",
    "    print(result)"
   ]
  },
  {
   "cell_type": "markdown",
   "id": "08c40897-84ce-438c-834c-e6f0f78192ce",
   "metadata": {},
   "source": [
    "### Ex 9: Alphabet Rangoli"
   ]
  },
  {
   "cell_type": "code",
   "execution_count": null,
   "id": "c39da7d3-c355-4f4a-85bb-427a48122a6a",
   "metadata": {},
   "outputs": [],
   "source": [
    "import string\n",
    "alph = list(string.ascii_lowercase)\n",
    "\n",
    "def print_rangoli(size):\n",
    "    if 0 < size < 27:\n",
    "        A = alph[:size]\n",
    "        B = A[:0:-1]\n",
    "        C = B + A\n",
    "\n",
    "        width = (len(C)*2) -1\n",
    "\n",
    "    #first triangle\n",
    "        for i in range(size-1):\n",
    "            b = B + A\n",
    "            for j in range((size-1)*2 -(i*2)):\n",
    "                b.pop(1+i)\n",
    "            print(\"-\".join(b).center(width, '-'))\n",
    "    \n",
    "    #middle line\n",
    "        print(\"-\".join(C).center(width, '-'))\n",
    "\n",
    "    #second triangle\n",
    "        for i in range(size-1):\n",
    "            C.pop(size-1-i)\n",
    "            C.pop(size-1-i)\n",
    "            print(\"-\".join(C).center(width, '-'))\n",
    "        \n",
    "\n",
    "\n",
    "if __name__ == '__main__':\n",
    "    n = int(input())\n",
    "    print_rangoli(n)"
   ]
  },
  {
   "cell_type": "markdown",
   "id": "ce4f6fa4-0202-48f6-883e-d89ef1e3ccfa",
   "metadata": {},
   "source": [
    "### Ex 10: String Formatting"
   ]
  },
  {
   "cell_type": "code",
   "execution_count": null,
   "id": "a500a7cb-532e-48de-9382-cf78ea4f16f0",
   "metadata": {},
   "outputs": [],
   "source": [
    "def print_formatted(n):\n",
    "    if 1 <= n <= 99:\n",
    "        binary_1 = format(n,'b')\n",
    "        width = len(binary_1)\n",
    "        for i in range(1, n+1):\n",
    "            binary = format(i,'b') #way to convert number in other numerical systems\n",
    "            decimal =format(i,'d')\n",
    "            octal = format(i,'o')\n",
    "            hexa = format(i,'X')\n",
    "            \n",
    "            print(str(decimal).rjust(width),octal.rjust(width),hexa.rjust(width),binary.rjust(width))\n",
    "#.rjust() taken from the description of the mat exercise + online pyhton documentation, it basically right aligns the string, using a specified character (space by default) as the fill character.\n",
    "\n",
    "\n",
    "if __name__ == '__main__':\n",
    "    n = int(input())\n",
    "    print_formatted(n)"
   ]
  },
  {
   "cell_type": "markdown",
   "id": "74837de9-049c-4e9a-94e1-bb5d0ecdb398",
   "metadata": {},
   "source": [
    "### Ex 11: Capitalize!"
   ]
  },
  {
   "cell_type": "code",
   "execution_count": null,
   "id": "118a3971-d2d0-482e-8641-3e2d4a8e584c",
   "metadata": {},
   "outputs": [],
   "source": [
    "def solve(s):\n",
    "    if 0 < len(s) < 1000:\n",
    "        ls = s.split(\" \")\n",
    "        new = []\n",
    "        for i in range(len(ls)):\n",
    "            word = ls[i]\n",
    "            cap_word = word.capitalize()\n",
    "            new.append(cap_word)\n",
    "    S = \" \".join(new)\n",
    "    return(S)\n",
    "\n",
    "if __name__ == '__main__':\n",
    "    fptr = open(os.environ['OUTPUT_PATH'], 'w')\n",
    "\n",
    "    s = input()\n",
    "\n",
    "    result = solve(s)\n",
    "\n",
    "    fptr.write(result + '\\n')\n",
    "\n",
    "    fptr.close()"
   ]
  },
  {
   "cell_type": "markdown",
   "id": "d3d277ef-db3c-4bd3-a83c-95faf44cc7b3",
   "metadata": {},
   "source": [
    "### Ex 12: Find a string"
   ]
  },
  {
   "cell_type": "code",
   "execution_count": null,
   "id": "dd29dee6-f0d2-45e2-b79c-6929245be4ca",
   "metadata": {},
   "outputs": [],
   "source": [
    "def count_substring(string, sub_string):\n",
    "    count = 0\n",
    "    if 1<= len(string) <= 200:\n",
    "        for i in range(len(string)):\n",
    "            if string[i:i+len(sub_string)] == sub_string:\n",
    "                count +=1\n",
    "    return(count)\n",
    "\n",
    "if __name__ == '__main__':\n",
    "    string = input().strip()\n",
    "    sub_string = input().strip()\n",
    "    \n",
    "    count = count_substring(string, sub_string)\n",
    "    print(count)"
   ]
  },
  {
   "cell_type": "markdown",
   "id": "c0e9e390-a13e-4410-b840-3a632097b8b5",
   "metadata": {},
   "source": [
    "### Ex 13: The Minion Game"
   ]
  },
  {
   "cell_type": "code",
   "execution_count": null,
   "id": "b2038adb-0e02-4850-87da-b46aa5647489",
   "metadata": {},
   "outputs": [],
   "source": [
    "def minion_game(string):\n",
    "    string.upper()\n",
    "        \n",
    "    if 0 <= len(s) <= (10**6):\n",
    "        Stuart = 0\n",
    "        Kevin = 0\n",
    "        vowels = [\"A\",\"E\",\"I\",\"O\",\"U\"]\n",
    "            \n",
    "        n = len(string)\n",
    "        for i in range(n):\n",
    "            if string[i] in vowels:\n",
    "                Kevin += n-i #sort of permutations that instead of the \"*\" have the \"+\" \n",
    "            else:\n",
    "                Stuart += n-i #sort of permutations that instead of the \"*\" have the \"+\" \n",
    "                    \n",
    "        if (Stuart > Kevin):\n",
    "            print(\"Stuart \"+ str(Stuart))\n",
    "        elif (Stuart < Kevin):\n",
    "            print(\"Kevin \"+ str(Kevin))\n",
    "        else:\n",
    "            print(\"Draw\")\n",
    "\n",
    "if __name__ == '__main__':\n",
    "    s = input()\n",
    "    minion_game(s)"
   ]
  },
  {
   "cell_type": "markdown",
   "id": "d150919a-14ac-4461-b477-3e6597d6079a",
   "metadata": {},
   "source": [
    "### Ex 14: Merge the Tools!"
   ]
  },
  {
   "cell_type": "code",
   "execution_count": null,
   "id": "486666de-3ba3-42d7-8334-2f88693a09a7",
   "metadata": {},
   "outputs": [],
   "source": [
    "def merge_the_tools(string, k):\n",
    "    n = len(string)\n",
    "    if 1 <= n <= (10**4) and 1 <= k <= n:\n",
    "        substring = len(string)//k\n",
    "        i=0\n",
    "        for i in range(substring):\n",
    "            dist = []\n",
    "            ls = list(string[(i*k):(i*k+k)])\n",
    "            for j in ls:\n",
    "                if j not in dist:\n",
    "                    dist.append(j)\n",
    "            print(*dist, sep = '')\n",
    "\n",
    "if __name__ == '__main__':\n",
    "    string, k = input(), int(input())\n",
    "    merge_the_tools(string, k)"
   ]
  },
  {
   "cell_type": "markdown",
   "id": "17724e1c-46c5-49d6-9e31-e93de31b01f5",
   "metadata": {},
   "source": [
    "## Sets\n",
    "### Ex 1: Introduction to Sets"
   ]
  },
  {
   "cell_type": "code",
   "execution_count": null,
   "id": "e72a39da-83b4-45c7-9c62-bf4c011f31bc",
   "metadata": {},
   "outputs": [],
   "source": [
    "def average(array):\n",
    "    # your code goes here\n",
    "    if 0 < n <= 1000:\n",
    "        array = set(array)\n",
    "        avg = sum(array)/len(array)\n",
    "    return(avg)\n",
    "\n",
    "if __name__ == '__main__':\n",
    "    n = int(input())\n",
    "    arr = list(map(int, input().split()))\n",
    "    result = average(arr)\n",
    "    print(result)"
   ]
  },
  {
   "cell_type": "markdown",
   "id": "ab9996a0-0906-455f-bd2d-b9701363dd69",
   "metadata": {},
   "source": [
    "### Ex 2: Symmetic Difference"
   ]
  },
  {
   "cell_type": "code",
   "execution_count": null,
   "id": "ed83bea1-793d-429a-8511-a82f812de26e",
   "metadata": {},
   "outputs": [],
   "source": [
    "M = int(input())\n",
    "a = set(map(int, input().strip().split(' ')))\n",
    "N = int(input())\n",
    "b = set(map(int, input().strip().split(' ')))\n",
    "count_1 = list(a.difference(b))\n",
    "count_2 = list(b.difference(a))\n",
    "count_1.extend(count_2) #add the elements of the two separated lists to one tot list\n",
    "sort_count = sorted(count_1)\n",
    "for i in sort_count:\n",
    "    print(i)"
   ]
  },
  {
   "cell_type": "markdown",
   "id": "645b33ec-3ffd-4617-ade0-5c86297ae53f",
   "metadata": {},
   "source": [
    "### Ex 3: Set. add()"
   ]
  },
  {
   "cell_type": "code",
   "execution_count": null,
   "id": "7a8e959c-5a21-4045-96f1-97ff7cea45f0",
   "metadata": {},
   "outputs": [],
   "source": [
    "N = int(input())\n",
    "stamp = set([])\n",
    "if 0 < N < 1000:\n",
    "    for i in range(1,N):\n",
    "        stamp.add(input())\n",
    "print(len(list(stamp)))"
   ]
  },
  {
   "cell_type": "markdown",
   "id": "b8d9f115-2886-4b39-a971-4ba9067a5af4",
   "metadata": {},
   "source": [
    "### Ex 4: Set. discard(), .remove() & .pop()"
   ]
  },
  {
   "cell_type": "code",
   "execution_count": null,
   "id": "eea0e2ef-064f-4a19-a06e-191e8daa30c2",
   "metadata": {},
   "outputs": [],
   "source": [
    "n = int(input())\n",
    "s = set(map(int, input().split()))\n",
    "\n",
    "N = int(input())\n",
    "if 0 < n < 20 and 0 < N < 20:\n",
    "    for i in range(N):\n",
    "        entry = input().split()   \n",
    "        if entry[0] == \"pop\":\n",
    "            s.pop() \n",
    "        if entry[0] == \"remove\":\n",
    "            s.remove(int(entry[1]))\n",
    "        if entry[0] == \"discard\":\n",
    "                s.discard(int(entry[1]))\n",
    "print(sum(s))"
   ]
  },
  {
   "cell_type": "markdown",
   "id": "031da9a6-0a8c-4410-aa88-3a28c974ebb7",
   "metadata": {},
   "source": [
    "### Ex 5: Set .union() Operation"
   ]
  },
  {
   "cell_type": "code",
   "execution_count": null,
   "id": "153fcdad-bc1f-42b2-b047-6fd90346198d",
   "metadata": {},
   "outputs": [],
   "source": [
    "# Enter your code here. Read input from STDIN. Print output to STDOUT\n",
    "n = int(input()) # of stud Eng\n",
    "eng_std = set(map(int, input().split())) # roll\n",
    "b = int(input()) # of stud Fr\n",
    "fr_std = set(map(int, input().split())) # roll\n",
    "    \n",
    "tot = eng_std.union(fr_std)\n",
    "count_tot = len(tot)\n",
    "print(count_tot)"
   ]
  },
  {
   "cell_type": "markdown",
   "id": "a2cb7a18-edcd-443e-9ed2-664dfe4dca20",
   "metadata": {},
   "source": [
    "### Ex 6: Set .intersection()"
   ]
  },
  {
   "cell_type": "code",
   "execution_count": null,
   "id": "5db6aefc-a145-440a-a57e-b20cdbd9e8d6",
   "metadata": {},
   "outputs": [],
   "source": [
    "n = int(input()) # of stud Eng\n",
    "eng_std = set(map(int, input().split())) # roll\n",
    "b = int(input()) # of stud Fr\n",
    "fr_std = set(map(int, input().split())) # roll\n",
    "     \n",
    "tot = eng_std.intersection(fr_std)\n",
    "count_tot = len(tot)\n",
    "print(count_tot)"
   ]
  },
  {
   "cell_type": "markdown",
   "id": "a9534c01-afd2-482b-b404-f5b53acf7407",
   "metadata": {},
   "source": [
    "### Ex 7: Set. difference()"
   ]
  },
  {
   "cell_type": "code",
   "execution_count": null,
   "id": "a50c46cd-0fbe-4b80-9055-f54c42fdd570",
   "metadata": {},
   "outputs": [],
   "source": [
    "n = int(input()) # of stud Eng\n",
    "eng_std = set(map(int, input().split())) # roll\n",
    "b = int(input()) # of stud Fr\n",
    "fr_std = set(map(int, input().split())) # roll\n",
    "     \n",
    "tot = eng_std.difference(fr_std)\n",
    "count_tot = len(tot)\n",
    "print(count_tot)"
   ]
  },
  {
   "cell_type": "markdown",
   "id": "598d988d-4324-443f-9251-39afca629d6f",
   "metadata": {},
   "source": [
    "### Ex 8: Set. symmetric_difference()"
   ]
  },
  {
   "cell_type": "code",
   "execution_count": null,
   "id": "e545873b-2416-445d-9071-a9d17663d756",
   "metadata": {},
   "outputs": [],
   "source": [
    "n = int(input()) # of stud Eng\n",
    "eng_std = set(map(int, input().split())) # roll\n",
    "b = int(input()) # of stud Fr\n",
    "fr_std = set(map(int, input().split())) # roll\n",
    "     \n",
    "tot = eng_std.symmetric_difference(fr_std)\n",
    "count_tot = len(tot)\n",
    "print(count_tot)"
   ]
  },
  {
   "cell_type": "markdown",
   "id": "c770801a-1452-4e95-896b-1960ef690ffa",
   "metadata": {},
   "source": [
    "### Ex 9: Set Mutations"
   ]
  },
  {
   "cell_type": "code",
   "execution_count": null,
   "id": "4693ef6a-39bf-4e97-92b1-636c31c76112",
   "metadata": {},
   "outputs": [],
   "source": [
    "n_A = int(input())\n",
    "A = set(map(int, input().split()))\n",
    "N = int(input())\n",
    "if 0 < len(A) < 1000 and 0 < N < 100:\n",
    "    for i in range(N):\n",
    "        inp = input().split()\n",
    "        new_set = set(map(int, input().split()))\n",
    "        if 0 < len(new_set) < 100:\n",
    "            if inp[0] == \"intersection_update\":\n",
    "                A.intersection_update(new_set)\n",
    "            if inp[0] == \"update\":\n",
    "                A.update(new_set)\n",
    "            if inp[0] == \"symmetric_difference_update\":\n",
    "                A.symmetric_difference_update(new_set)\n",
    "            if inp[0] == \"difference_update\":\n",
    "                A.difference_update(new_set)\n",
    "print(sum(A))"
   ]
  },
  {
   "cell_type": "markdown",
   "id": "de5e0cd0-5200-4cc3-acb8-0c1102569025",
   "metadata": {},
   "source": [
    "### Ex 10: Check Subset"
   ]
  },
  {
   "cell_type": "code",
   "execution_count": null,
   "id": "4cba3a52-bb86-4872-9fd5-f41d8deaaf3b",
   "metadata": {},
   "outputs": [],
   "source": [
    "T = int(input())\n",
    "if 0 < T < 21:\n",
    "    for i in range(T):\n",
    "        a = int(input())\n",
    "        set_a = set(map(int, input().split()))\n",
    "        b = int(input())\n",
    "        set_b = set(map(int, input().split()))\n",
    "        if 0 < a < 1001 and 0 < b < 1001:\n",
    "            if set_a.intersection(set_b) == set_a:\n",
    "                print(\"True\")\n",
    "            else:\n",
    "                print(\"False\")"
   ]
  },
  {
   "cell_type": "markdown",
   "id": "88c7c716-78cc-4078-a08b-d273ac46a60f",
   "metadata": {},
   "source": [
    "### Ex 11: Check Strict Superset"
   ]
  },
  {
   "cell_type": "code",
   "execution_count": null,
   "id": "ff6d9620-719e-44b6-bdce-3248bca375eb",
   "metadata": {},
   "outputs": [],
   "source": [
    "A = set(input().split())\n",
    "N = int(input())\n",
    "T = 0\n",
    "F = 0\n",
    "if 0 < len(A) < 501 and 0 < N < 21:\n",
    "    for i in range(N):\n",
    "        other = set(input().split())\n",
    "        if 0 < len(other) < 101:\n",
    "            if A.intersection(other) == other:\n",
    "                T += 1\n",
    "            else:\n",
    "                F += 1\n",
    "    if F !=0:\n",
    "        print(\"False\")\n",
    "    else:\n",
    "        print(\"True\")"
   ]
  },
  {
   "cell_type": "markdown",
   "id": "e5036e16-7432-40f3-917f-151f3f828795",
   "metadata": {},
   "source": [
    "### Ex 12: The Capitain's Room"
   ]
  },
  {
   "cell_type": "code",
   "execution_count": null,
   "id": "637530d8-0b7a-47f0-82bf-bf09fcd4e573",
   "metadata": {},
   "outputs": [],
   "source": [
    "#I came back to this exercise after doing the others and since I learned about the Counter method I decided that it would have been quicker to use a Counter\n",
    "from collections import Counter\n",
    "\n",
    "K = int(input())\n",
    "room_numbers =Counter(map(int, input().split()))\n",
    "\n",
    "if 1 < K <1000:\n",
    "    def getKey(dct,value):\n",
    "        return [key for key in dct if (dct[key] == value)]\n",
    "    print(*getKey(room_numbers, 1))"
   ]
  },
  {
   "cell_type": "markdown",
   "id": "70c9b725-ac3e-46c6-bc76-fb1c7856bcc2",
   "metadata": {},
   "source": [
    "### Ex 13: No Idea!"
   ]
  },
  {
   "cell_type": "code",
   "execution_count": null,
   "id": "22195797-532d-4266-96c3-39c4be67834c",
   "metadata": {},
   "outputs": [],
   "source": [
    "n, m = map(int, input().strip().split(' '))\n",
    "arr = list(map(int, input().strip().split(' ')))\n",
    "A = set(map(int, input().strip().split(' '))) #good\n",
    "B = set(map(int, input().strip().split(' '))) #bad\n",
    "if 1<= n <= (10**5) and 1 <= m <= (10**5):\n",
    "    happiness = 0\n",
    "    for i in arr:\n",
    "        if i in A:\n",
    "            happiness += 1\n",
    "        if i in B:\n",
    "            happiness -= 1\n",
    "print(happiness)"
   ]
  },
  {
   "cell_type": "markdown",
   "id": "93d7f460-a51f-472b-a12c-e98a991cda38",
   "metadata": {},
   "source": [
    "## Collections\n",
    "### Ex 1: DefaultDict Tutorial"
   ]
  },
  {
   "cell_type": "code",
   "execution_count": null,
   "id": "70a02465-02c8-4bc0-bd40-cf7f7b2a83c4",
   "metadata": {},
   "outputs": [],
   "source": [
    "from collections import defaultdict\n",
    "dic = defaultdict(list)\n",
    "n, m = map(int, input().split())\n",
    "if 1 <= n <= 10000 and 1 <= m <= 100:\n",
    "    for i in range(n):\n",
    "        A = str(input())\n",
    "        if 1 <= len(A) <= 100:\n",
    "            dic[A].append(i+1)\n",
    "    for j in range(m):\n",
    "        B = str(input())\n",
    "        if B in dic:\n",
    "            print(*dic[B])\n",
    "        else:\n",
    "            print(-1)"
   ]
  },
  {
   "cell_type": "markdown",
   "id": "047e2c27-d7a5-4cde-9590-0ba4f9679e79",
   "metadata": {},
   "source": [
    "### Ex 2: Collections.namedtuple()"
   ]
  },
  {
   "cell_type": "code",
   "execution_count": null,
   "id": "a95c08cb-d057-49ab-a4c1-6cc6cd6e5925",
   "metadata": {},
   "outputs": [],
   "source": [
    "from collections import namedtuple\n",
    "\n",
    "N = int(input())\n",
    "fields = input().split()\n",
    "\n",
    "count = 0\n",
    "if 0 < N <= 100:\n",
    "    for i in range(N):\n",
    "        students = namedtuple('students', fields) #variable names in the tuple\n",
    "        MARKS, CLASS, NAME, ID = input().split()\n",
    "        student = students(MARKS, CLASS, NAME, ID) #values fo the variables in the named tuple\n",
    "        count += int(student.MARKS)\n",
    "    print('{0:.2f}'.format(count/N))"
   ]
  },
  {
   "cell_type": "markdown",
   "id": "eeeea2e1-48a2-4f33-a020-bc33ac6fc1a5",
   "metadata": {},
   "source": [
    "### Ex 3: Collections.OrderedDict()"
   ]
  },
  {
   "cell_type": "code",
   "execution_count": null,
   "id": "93aff842-c6b4-477e-adfa-6690a2a6d80a",
   "metadata": {},
   "outputs": [],
   "source": [
    "from collections import OrderedDict\n",
    "\n",
    "N = int(input())\n",
    "\n",
    "item_dict = OrderedDict()\n",
    "\n",
    "if 0 < N <= 100:\n",
    "    for i in range(N):\n",
    "        item_name, space, item_price = input().rpartition(' ')\n",
    "        \n",
    "        if item_name in item_dict:\n",
    "            item_dict[item_name] += int(item_price)\n",
    "        else:\n",
    "            item_dict[item_name] = int(item_price)\n",
    "            \n",
    "    for j in item_dict:\n",
    "        print(j, item_dict[j])"
   ]
  },
  {
   "cell_type": "markdown",
   "id": "0e1a9f38-2a9d-4544-b105-8e430bfd4c33",
   "metadata": {},
   "source": [
    "### Ex 4: Collections.deque()"
   ]
  },
  {
   "cell_type": "code",
   "execution_count": null,
   "id": "3d2c64c3-cf9d-440e-869a-4ac192bf5c64",
   "metadata": {},
   "outputs": [],
   "source": [
    "from collections import deque\n",
    "\n",
    "N = int(input())\n",
    "\n",
    "d = deque()\n",
    "for i in range(N):\n",
    "    inp = input().split()\n",
    "    if 0 < N <= 100:\n",
    "        if inp[0] == \"append\":\n",
    "            d.append(inp[1])\n",
    "        if inp[0] == \"pop\":\n",
    "            d.pop() \n",
    "        if inp[0] == \"popleft\":\n",
    "            d.popleft()\n",
    "        if inp[0] == \"appendleft\":\n",
    "            d.appendleft(inp[1])       \n",
    "print(*d) #prints the elements of the deque"
   ]
  },
  {
   "cell_type": "markdown",
   "id": "5f5c7205-75e7-4f3b-b565-5d02f5dee71b",
   "metadata": {},
   "source": [
    "### Ex 5: Company Logo"
   ]
  },
  {
   "cell_type": "code",
   "execution_count": null,
   "id": "ebf50910-6326-4a8d-bbe8-5a26880d78c7",
   "metadata": {},
   "outputs": [],
   "source": [
    "import math\n",
    "import os\n",
    "import random\n",
    "import re\n",
    "import sys\n",
    "from collections import Counter\n",
    "\n",
    "s = input()\n",
    "\n",
    "if 3 < len(s) <= (10**4):\n",
    "    word = Counter(sorted(s))\n",
    "    \n",
    "    counter = 0 #to break the for loop at index 3\n",
    "    for key, value in word.items():\n",
    "        print(key, value)\n",
    "        counter +=1\n",
    "        if counter == 3:\n",
    "            break\n",
    "\n",
    "if __name__ == '__main__':\n",
    "    s = input()"
   ]
  },
  {
   "cell_type": "markdown",
   "id": "33899614-f507-482a-af2a-c16c35254105",
   "metadata": {},
   "source": [
    "### Ex 6: Pilling Up!"
   ]
  },
  {
   "cell_type": "code",
   "execution_count": null,
   "id": "2bf21af7-7e2f-4d37-8e33-8561bd098492",
   "metadata": {},
   "outputs": [],
   "source": [
    "T = int(input())\n",
    "\n",
    "for i in range(T):\n",
    "    n = int(input())\n",
    "    block = list(map(int, input().split()))\n",
    "    out = \"Yes\"\n",
    "    \n",
    "    if 1 <= T <= 5 and 1 <= n <= (10**5):\n",
    "        for j in range(1,len(block)-1):\n",
    "            if block[j] > block[j-1] and block[j] > block[j+1]:\n",
    "                out = \"No\"\n",
    "                break\n",
    "    print(out)"
   ]
  },
  {
   "cell_type": "markdown",
   "id": "2bfe389c-161f-4804-9b07-6a9c126e6328",
   "metadata": {},
   "source": [
    "### Ex 7: collections.Counter()"
   ]
  },
  {
   "cell_type": "code",
   "execution_count": null,
   "id": "fc5c39da-f501-4e24-b811-2e714e05dbbd",
   "metadata": {},
   "outputs": [],
   "source": [
    "from collections import Counter\n",
    "\n",
    "X = int(input())\n",
    "size = Counter(map(int, input().split()))\n",
    "N = int(input())\n",
    "\n",
    "money_earned = 0 #counter for the earnings \n",
    "if 0 < X < (10**3) and 0 < N <= (10**3):\n",
    "    for i in range(N):\n",
    "        shoe_size, x_i = map(int, input().split())\n",
    "        #if 20 < x_i < 100 and 2 < shoe_size < 20:\n",
    "        if size[shoe_size] > 0:\n",
    "            money_earned += x_i\n",
    "            size[shoe_size]-=1 #delete the shoe count that Raghu just sold          \n",
    "    print(money_earned)"
   ]
  },
  {
   "cell_type": "markdown",
   "id": "ca1bf2c5-162b-491f-a4fe-070944e39b58",
   "metadata": {},
   "source": [
    "### Ex 8: Word Order"
   ]
  },
  {
   "cell_type": "code",
   "execution_count": null,
   "id": "2df1711e-3c2c-40d2-9ff5-9866e0d6df0f",
   "metadata": {},
   "outputs": [],
   "source": [
    "from collections import Counter\n",
    "\n",
    "n = int(input())\n",
    "\n",
    "words = []\n",
    "for i in range(n):\n",
    "    words.append(input().strip()) #strip() removes any leading(spaces at the beginning) and trailing (spaces at the end) characters \n",
    "if 1 <= n <= (10**5):\n",
    "    words_lower = [i.lower() for i in words] #lowercase constraint \n",
    "    count = Counter(words_lower)\n",
    "    words = count.keys()\n",
    "    n_word = count.values()\n",
    "print(len(words))\n",
    "print(*n_word)"
   ]
  },
  {
   "cell_type": "markdown",
   "id": "9dda8f62-9d15-437e-9f06-b2b63a25fd9b",
   "metadata": {},
   "source": [
    "## Date and Time\n",
    "### Ex 1: Calendar Module"
   ]
  },
  {
   "cell_type": "code",
   "execution_count": null,
   "id": "18820f4f-5b7e-4f01-869b-15ebc9cb0da4",
   "metadata": {},
   "outputs": [],
   "source": [
    "import calendar\n",
    "month, day, year = list(map(int,input().split()))\n",
    "if 2000 < year < 3000:\n",
    "    dayname = calendar.day_name[calendar.weekday(year, month, day)]\n",
    "print(dayname.upper())"
   ]
  },
  {
   "cell_type": "markdown",
   "id": "58215736-74aa-45b2-8ddf-ad6d94b88d99",
   "metadata": {},
   "source": [
    "### Ex 2: Time Delta"
   ]
  },
  {
   "cell_type": "code",
   "execution_count": null,
   "id": "3c2ac9ee-369c-4417-8141-83d26264e93b",
   "metadata": {},
   "outputs": [],
   "source": [
    "import math\n",
    "import os\n",
    "import random\n",
    "import re\n",
    "import sys\n",
    "import calendar\n",
    "import datetime\n",
    "\n",
    "from datetime import datetime\n",
    "\n",
    "# Complete the time_delta function below.\n",
    "def time_delta(t1, t2):\n",
    "    formatt = \"%a %d %b %Y %H:%M:%S %z\"\n",
    "    t1 = datetime.strptime(t1,formatt) \n",
    "    t2 = datetime.strptime(t2,formatt)\n",
    "    \n",
    "    time_abs = abs(int((t1-t2).total_seconds()))\n",
    "    return (str(time_abs))\n",
    "\n",
    "if __name__ == '__main__':\n",
    "    fptr = open(os.environ['OUTPUT_PATH'], 'w')\n",
    "\n",
    "    t = int(input())\n",
    "\n",
    "    for t_itr in range(t):\n",
    "        t1 = input()\n",
    "\n",
    "        t2 = input()\n",
    "\n",
    "        delta = time_delta(t1, t2)\n",
    "\n",
    "        fptr.write(delta + '\\n')\n",
    "\n",
    "    fptr.close()"
   ]
  },
  {
   "cell_type": "markdown",
   "id": "419072e1-461a-402a-a78b-5d3b59b73a62",
   "metadata": {},
   "source": [
    "## Exceptions\n",
    "### Ex 1: Exceptions"
   ]
  },
  {
   "cell_type": "code",
   "execution_count": null,
   "id": "b06c697e-4c26-4799-b639-af7e0e2ad3b2",
   "metadata": {},
   "outputs": [],
   "source": [
    "T = int(input())\n",
    "if 0 < T < 10: \n",
    "    for i in range(T):\n",
    "        try:\n",
    "            a,b = list(map(int,input().split()))\n",
    "            division = a//b\n",
    "            print(division) \n",
    "        except Exception as e: #Exception is a more general \"family\" of error which includes ZeroDivisionError, ValueError and others \n",
    "            print (\"Error Code:\",e)"
   ]
  },
  {
   "cell_type": "markdown",
   "id": "b14e66f0-056d-490f-9a77-19bdef9db581",
   "metadata": {},
   "source": [
    "## Built-ins\n",
    "### Ex 1: Zipped!"
   ]
  },
  {
   "cell_type": "code",
   "execution_count": null,
   "id": "5620e6dc-11ca-47bc-a98c-0d2e4e9a0ded",
   "metadata": {},
   "outputs": [],
   "source": [
    "N,X = map(int,input().split())\n",
    "if 0 < N <= 100 and 0 < X <= 100:\n",
    "    marks = []\n",
    "    for i in range(X):\n",
    "        mark = list(map(float,input().split()))\n",
    "        marks.append(mark)\n",
    "        zip_marks = zip(*marks)\n",
    "            \n",
    "            \n",
    "    for j in zip_marks:\n",
    "        score_sum = sum(j)/X\n",
    "        print('{0:.1f}'.format(score_sum))"
   ]
  },
  {
   "cell_type": "markdown",
   "id": "00660212-3ba8-494a-93f9-b06bfb308f05",
   "metadata": {},
   "source": [
    "### Ex 2: Athlete Sort"
   ]
  },
  {
   "cell_type": "code",
   "execution_count": null,
   "id": "32936102-c267-49b3-b74b-a083d39824ce",
   "metadata": {},
   "outputs": [],
   "source": [
    "import math\n",
    "import os\n",
    "import random\n",
    "import re\n",
    "import sys\n",
    "\n",
    "if __name__ == '__main__':\n",
    "    first_multiple_input = input().rstrip().split()\n",
    "\n",
    "    n = int(first_multiple_input[0])\n",
    "\n",
    "    m = int(first_multiple_input[1])\n",
    "\n",
    "    arr = []\n",
    "\n",
    "    for _ in range(n):\n",
    "        arr.append(list(map(int, input().rstrip().split())))\n",
    "\n",
    "    k = int(input().strip())\n",
    "\n",
    "if 1 <= n <= 1000 and 1 <= m <= 1000 and 0 <= k < m:\n",
    "    \n",
    "    sort_arr = sorted(arr, key=lambda i: i[k]) #order matrix based-off the column k\n",
    "    \n",
    "    for i in range(n):\n",
    "        print(*sort_arr[i])"
   ]
  },
  {
   "cell_type": "markdown",
   "id": "2857bb16-d2ea-4b6f-8221-ae8da1ffe3b3",
   "metadata": {},
   "source": [
    "### Ex 3: ginortS"
   ]
  },
  {
   "cell_type": "code",
   "execution_count": null,
   "id": "808fe076-8eff-41ce-a4fa-e8dca686f07e",
   "metadata": {},
   "outputs": [],
   "source": [
    "# Enter your code here. Read input from STDIN. Print output to STDOUT\n",
    "S = input()\n",
    "if 0 < len(S) < 1000:\n",
    "    letter = []\n",
    "    Letter = []\n",
    "    number_odd = []\n",
    "    number_even = []\n",
    "    for i in S:\n",
    "        if i.islower():\n",
    "            letter.append(i)\n",
    "        elif i.isupper():\n",
    "            Letter.append(i)\n",
    "        elif i.isdigit():\n",
    "            if int(i) % 2 == 0:\n",
    "                number_even.append(i)\n",
    "            else:\n",
    "                number_odd.append(i)\n",
    "    #print(sorted(letter))\n",
    "    #print(sorted(Letter))\n",
    "    #print(sorted(number_odd))\n",
    "    #print(sorted(number_even))\n",
    "word = sorted(letter)+sorted(Letter)+sorted(number_odd)+sorted(number_even)\n",
    "word_str = ''.join(word)\n",
    "print(word_str)"
   ]
  },
  {
   "cell_type": "markdown",
   "id": "29de88bb-65ae-4fcf-a7c9-83c8b5fbdbb3",
   "metadata": {},
   "source": [
    "## Python Functionals\n",
    "### Ex 1: Map and Lambda Function"
   ]
  },
  {
   "cell_type": "code",
   "execution_count": null,
   "id": "15656f96-880e-41ce-a98b-385dc061dd07",
   "metadata": {},
   "outputs": [],
   "source": [
    "cube = lambda n:n**3 # complete the lambda function \n",
    "def fibonacci(n):\n",
    "    # return a list of fibonacci numbers\n",
    "    if 0 <= n <= 15:\n",
    "        l = [0,1]\n",
    "        for i in range(2, n):\n",
    "            number = l[i-1] + l[i-2]\n",
    "            l.append(number)\n",
    "    return(l[0:n])\n",
    "if __name__ == '__main__':\n",
    "    n = int(input())\n",
    "    print(list(map(cube, fibonacci(n))))"
   ]
  },
  {
   "cell_type": "markdown",
   "id": "3c5e0bfc-e6ee-4c23-b88d-a4d0a9ff9381",
   "metadata": {},
   "source": [
    "## XML\n",
    "### Ex 1: XML 1 - Find the Score\n",
    "\n"
   ]
  },
  {
   "cell_type": "code",
   "execution_count": null,
   "id": "e2451d51-653a-4ace-8887-4996713716b2",
   "metadata": {},
   "outputs": [],
   "source": [
    "import sys\n",
    "import xml.etree.ElementTree as etree\n",
    "\n",
    "def get_attr_number(node):\n",
    "    # your code goes here\n",
    "    score = len(node.attrib)\n",
    "    for child in node:  \n",
    "        score += get_attr_number(child)\n",
    "    return score\n",
    "\n",
    "if __name__ == '__main__':\n",
    "    sys.stdin.readline()\n",
    "    xml = sys.stdin.read()\n",
    "    tree = etree.ElementTree(etree.fromstring(xml))\n",
    "    root = tree.getroot()\n",
    "    print(get_attr_number(root))"
   ]
  },
  {
   "cell_type": "markdown",
   "id": "51b2d8ff-9cf0-406f-b6ef-de359334de3e",
   "metadata": {},
   "source": [
    "### Ex 2:  XML2 - Find the Maximum Depth"
   ]
  },
  {
   "cell_type": "code",
   "execution_count": null,
   "id": "60ad5e3e-7849-4361-a0cd-73c09dbb9ce2",
   "metadata": {},
   "outputs": [],
   "source": [
    "import xml.etree.ElementTree as etree\n",
    "\n",
    "maxdepth = 0\n",
    "def depth(elem, level):\n",
    "    global maxdepth #global variable which can be accessed anywhere inside the function\n",
    "    if level == maxdepth:\n",
    "        maxdepth +=1 \n",
    "    for child in elem: #recursive to count the depth for each child\n",
    "        depth(child, level +1)\n",
    "\n",
    "if __name__ == '__main__':\n",
    "    n = int(input())\n",
    "    xml = \"\"\n",
    "    for i in range(n):\n",
    "        xml =  xml + input() + \"\\n\"\n",
    "    tree = etree.ElementTree(etree.fromstring(xml))\n",
    "    depth(tree.getroot(), -1)\n",
    "    print(maxdepth)"
   ]
  },
  {
   "cell_type": "markdown",
   "id": "9781e15b-a75b-4137-90d8-f4572a969c76",
   "metadata": {},
   "source": [
    "## Closures and Decorations\n",
    "### Ex 1: Standardize Mobile Number Using Decorators\n",
    "\n"
   ]
  },
  {
   "cell_type": "code",
   "execution_count": null,
   "id": "f8a39c53-02fe-4805-b2a4-1cb5d686898e",
   "metadata": {},
   "outputs": [],
   "source": [
    "def wrapper(f):\n",
    "    def fun(l):\n",
    "        c = []\n",
    "        for i in l:\n",
    "            c.append('+91' + ' ' + i[-10:-5] + ' '+ i[-5:])\n",
    "        print(*sorted(c), sep='\\n')\n",
    "    return fun\n",
    "\n",
    "@wrapper\n",
    "def sort_phone(l):\n",
    "    print(*sorted(l), sep='\\n')\n",
    "\n",
    "if __name__ == '__main__':\n",
    "    l = [input() for _ in range(int(input()))]\n",
    "    sort_phone(l) \n"
   ]
  },
  {
   "cell_type": "markdown",
   "id": "4fdc326e-a71e-4c0f-bd64-da70b3ea8cee",
   "metadata": {},
   "source": [
    "### Ex 2: Decorators 2 - Name Directory"
   ]
  },
  {
   "cell_type": "code",
   "execution_count": null,
   "id": "a04cfb6e-7b3d-4f96-b38c-ff46786aac88",
   "metadata": {},
   "outputs": [],
   "source": [
    "import operator\n",
    "\n",
    "def person_lister(f):\n",
    "    def inner(people):\n",
    "        for j in range(len(people)):\n",
    "            people[j][2] = int(people[j][2])\n",
    "        people.sort(key=operator.itemgetter(2))\n",
    "        \n",
    "        names = []\n",
    "        for i in people:\n",
    "            names.append(f(i)) #f-string idea\n",
    "        return names\n",
    "    return inner\n",
    "\n",
    "@person_lister\n",
    "def name_format(person):\n",
    "    return (\"Mr. \" if person[3] == \"M\" else \"Ms. \") + person[0] + \" \" + person[1]\n",
    "\n",
    "if __name__ == '__main__':\n",
    "    people = [input().split() for i in range(int(input()))]\n",
    "    print(*name_format(people), sep='\\n')"
   ]
  },
  {
   "cell_type": "markdown",
   "id": "92c8ac16-902e-4258-8065-c3a2298e1399",
   "metadata": {},
   "source": [
    "## Numpy\n",
    "### Ex 1: Arrays"
   ]
  },
  {
   "cell_type": "code",
   "execution_count": null,
   "id": "6e17b3bb-6b1e-4d45-bc28-4caf4b08d303",
   "metadata": {},
   "outputs": [],
   "source": [
    "import numpy\n",
    "\n",
    "def arrays(arr):\n",
    "    # complete this function\n",
    "    # use numpy.array\n",
    "    l = []\n",
    "    for i in range(len(arr)):\n",
    "        l.append(arr[i])\n",
    "    a = numpy.array(l[::-1], float)\n",
    "        \n",
    "    return(a)\n",
    "\n",
    "arr = input().strip().split(' ')\n",
    "result = arrays(arr)\n",
    "print(result)"
   ]
  },
  {
   "cell_type": "markdown",
   "id": "ae55928f-22ee-4819-8ee9-9ab719d51114",
   "metadata": {},
   "source": [
    "### Ex 2: Shape and Reshape"
   ]
  },
  {
   "cell_type": "code",
   "execution_count": null,
   "id": "3880965c-536c-4ea2-9873-c68eddc60fb6",
   "metadata": {},
   "outputs": [],
   "source": [
    "import numpy\n",
    "arr =  input().strip().split(' ')\n",
    "my_arr = numpy.array(arr, int)\n",
    "print (numpy.reshape(my_arr,(3,3)))"
   ]
  },
  {
   "cell_type": "markdown",
   "id": "3034edf0-8c91-41c5-ab14-00b4e37f9893",
   "metadata": {},
   "source": [
    "### Ex 3: Transpose and Flatten"
   ]
  },
  {
   "cell_type": "code",
   "execution_count": null,
   "id": "d8c3a2c8-d070-4168-9fe4-33b43e867987",
   "metadata": {},
   "outputs": [],
   "source": [
    "import numpy\n",
    "n, m = map (int, input ().split ())\n",
    "arr = numpy.array([input().strip().split() for i in range(n)], int)\n",
    "my_array = numpy.array(arr, int)\n",
    "print(numpy.transpose(my_array))\n",
    "print(my_array.flatten())"
   ]
  },
  {
   "cell_type": "markdown",
   "id": "5383f6e4-5305-45f7-9195-26955efa6100",
   "metadata": {},
   "source": [
    "### Ex 4: Concatenate"
   ]
  },
  {
   "cell_type": "code",
   "execution_count": null,
   "id": "a381cf9d-b94f-4663-a6c2-7bbf42736129",
   "metadata": {},
   "outputs": [],
   "source": [
    "import numpy\n",
    "N,M,P = map(int, input().split())\n",
    "arr_1 = numpy.array([input().split() for i in range(N)], int)\n",
    "arr_2 = numpy.array([input().split() for i in range(M)], int)\n",
    "print(numpy.concatenate((arr_1, arr_2)))"
   ]
  },
  {
   "cell_type": "markdown",
   "id": "427ef3bb-ad60-42c1-af5e-7ecd058b5e83",
   "metadata": {},
   "source": [
    "### Ex 5: Zeros and Ones"
   ]
  },
  {
   "cell_type": "code",
   "execution_count": null,
   "id": "fd402ebe-013e-4d17-8e8e-1a3f1b251a0b",
   "metadata": {},
   "outputs": [],
   "source": [
    "import numpy\n",
    "inp = tuple(map(int, input().split()))\n",
    "print (numpy.zeros(inp, dtype = int))\n",
    "print (numpy.ones(inp, dtype = int))"
   ]
  },
  {
   "cell_type": "markdown",
   "id": "4ee45b7c-d582-4131-9aac-50eab99b3f41",
   "metadata": {},
   "source": [
    "### Ex 6: Eye and Identity"
   ]
  },
  {
   "cell_type": "code",
   "execution_count": null,
   "id": "980659ec-26a3-4551-a6cb-516ea59c64da",
   "metadata": {},
   "outputs": [],
   "source": [
    "import numpy\n",
    "numpy.set_printoptions(legacy = '1.13')\n",
    "N,M = map(int,input().split())\n",
    "print(numpy.eye(N, M)) #k -> default value = main diagonal = 1"
   ]
  },
  {
   "cell_type": "markdown",
   "id": "547b444a-711b-4b90-b6f0-ea290f3a3cd3",
   "metadata": {},
   "source": [
    "### Ex 7: Array Mathematics"
   ]
  },
  {
   "cell_type": "code",
   "execution_count": null,
   "id": "9fef2a17-79dc-4255-a14b-bf83425aa54f",
   "metadata": {},
   "outputs": [],
   "source": [
    "import numpy\n",
    "N,M = map(int, input().split())\n",
    "a = numpy.array([input().strip().split() for i in range(N)], int)\n",
    "b = numpy.array([input().strip().split() for i in range(N)], int)\n",
    "print(numpy.add(a,b))\n",
    "print(numpy.subtract(a,b))\n",
    "print(numpy.multiply(a,b))\n",
    "print(numpy.floor_divide(a,b))\n",
    "print(numpy.mod(a,b)) \n",
    "print(numpy.power(a,b))"
   ]
  },
  {
   "cell_type": "markdown",
   "id": "c4976d9b-4217-4638-9444-8dbcfee5c5aa",
   "metadata": {},
   "source": [
    "### Ex 8: Floor, Ceil and Rint"
   ]
  },
  {
   "cell_type": "code",
   "execution_count": null,
   "id": "ee7b0544-09c7-40b3-8da5-689605281e0e",
   "metadata": {},
   "outputs": [],
   "source": [
    "import numpy\n",
    "    \n",
    "numpy.set_printoptions(legacy = '1.13')\n",
    "A = numpy.array(input().split(), float)\n",
    "print(numpy.floor(A))\n",
    "print(numpy.ceil(A))\n",
    "print(numpy.rint(A))"
   ]
  },
  {
   "cell_type": "markdown",
   "id": "0ffc2f95-abb4-4840-90ad-761464f96aa5",
   "metadata": {},
   "source": [
    "### Ex 9: Sum and Prod\n",
    "\n"
   ]
  },
  {
   "cell_type": "code",
   "execution_count": null,
   "id": "58027021-1656-4e59-ab17-acd985eda383",
   "metadata": {},
   "outputs": [],
   "source": [
    "import numpy\n",
    "    \n",
    "N,M = map(int, input().split())\n",
    "arr = numpy.array([input().strip().split() for i in range(N)], int)\n",
    "sum_ = numpy.sum(arr, axis = 0)\n",
    "prod = numpy.prod(sum_)\n",
    "print(prod)"
   ]
  },
  {
   "cell_type": "markdown",
   "id": "4163cba4-c6ed-487a-95ec-a49a23b73526",
   "metadata": {},
   "source": [
    "### Ex 10: Min and Max"
   ]
  },
  {
   "cell_type": "code",
   "execution_count": null,
   "id": "0b264afa-3961-4146-a8d0-7d2fed3725a4",
   "metadata": {},
   "outputs": [],
   "source": [
    "import numpy\n",
    "    \n",
    "N,M = map(int, input().split())\n",
    "arr = numpy.array([input().strip().split() for i in range(N)], int)\n",
    "min_ = numpy.min(arr, axis = 1)\n",
    "max_ = numpy.max(min_)\n",
    "print(max_)"
   ]
  },
  {
   "cell_type": "markdown",
   "id": "9343f70a-23a8-4c68-a11b-f9bf4196964b",
   "metadata": {},
   "source": [
    "### Ex 11: Mean, Var and Std"
   ]
  },
  {
   "cell_type": "code",
   "execution_count": null,
   "id": "83ea9e20-c4d4-45be-9a41-d311cc6a1141",
   "metadata": {},
   "outputs": [],
   "source": [
    "import numpy as np\n",
    "N,M = map(int, input().split())\n",
    "arr = np.array([input().strip().split() for i in range(N)], int)\n",
    "print(np.mean(arr, axis = 1))\n",
    "print(np.var(arr, axis = 0))\n",
    "print(round(np.std(arr), 11))"
   ]
  },
  {
   "cell_type": "markdown",
   "id": "77b20255-4669-4f77-827c-88ba4c6dd39a",
   "metadata": {},
   "source": [
    "### Ex 12: Dot and Cross"
   ]
  },
  {
   "cell_type": "code",
   "execution_count": null,
   "id": "109a7b65-20de-4ad5-a7ce-da853a9edaa3",
   "metadata": {},
   "outputs": [],
   "source": [
    "import numpy\n",
    "N = int(input())\n",
    "A = numpy.array([input().strip().split() for i in range(N)], int)\n",
    "B = numpy.array([input().strip().split() for i in range(N)], int)\n",
    "print(numpy.dot(A,B))"
   ]
  },
  {
   "cell_type": "markdown",
   "id": "c7db0664-c934-49af-882e-091ccc81739e",
   "metadata": {},
   "source": [
    "### Ex 13: Inner and Outer"
   ]
  },
  {
   "cell_type": "code",
   "execution_count": null,
   "id": "c7257f8d-e074-4102-a9af-9b18e56a5372",
   "metadata": {},
   "outputs": [],
   "source": [
    "import numpy\n",
    "A = numpy.array(input().split(), int)\n",
    "B = numpy.array(input().split(), int)\n",
    "print(numpy.inner(A, B))\n",
    "print(numpy.outer(A, B))"
   ]
  },
  {
   "cell_type": "markdown",
   "id": "f1d6c993-900d-4d6b-8c4e-fc250fdc4b52",
   "metadata": {},
   "source": [
    "### Ex 14: Polynomials"
   ]
  },
  {
   "cell_type": "code",
   "execution_count": null,
   "id": "80225a68-e64a-4b5a-b4c5-21220f90ab55",
   "metadata": {},
   "outputs": [],
   "source": [
    "import numpy\n",
    "coeff = list(map(float,input().split()))\n",
    "x = int(input())\n",
    "print(numpy.polyval(coeff, x))"
   ]
  },
  {
   "cell_type": "markdown",
   "id": "7ec209ef-5067-4a85-a86c-ae2350e3f9ed",
   "metadata": {},
   "source": [
    "### Ex 15: Linear Algebra"
   ]
  },
  {
   "cell_type": "code",
   "execution_count": null,
   "id": "8fd3559b-3884-44db-9135-418995ff2f53",
   "metadata": {},
   "outputs": [],
   "source": [
    "import numpy\n",
    "numpy.set_printoptions(legacy='1.13')\n",
    "N = int(input())\n",
    "arr = numpy.array([input().strip().split() for i in range(N)], float)\n",
    "print(numpy.linalg.det(arr))"
   ]
  }
 ],
 "metadata": {
  "kernelspec": {
   "display_name": "Python 3 (ipykernel)",
   "language": "python",
   "name": "python3"
  },
  "language_info": {
   "codemirror_mode": {
    "name": "ipython",
    "version": 3
   },
   "file_extension": ".py",
   "mimetype": "text/x-python",
   "name": "python",
   "nbconvert_exporter": "python",
   "pygments_lexer": "ipython3",
   "version": "3.10.9"
  }
 },
 "nbformat": 4,
 "nbformat_minor": 5
}
