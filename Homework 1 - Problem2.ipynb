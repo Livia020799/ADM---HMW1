{
 "cells": [
  {
   "cell_type": "markdown",
   "id": "86cb9beb-7da3-44b7-bea4-c457dc81f875",
   "metadata": {},
   "source": [
    "# Homework 1 - Problem 2"
   ]
  },
  {
   "cell_type": "markdown",
   "id": "7f918851-9907-473a-9e75-bec64ccd47a5",
   "metadata": {},
   "source": [
    "### Ex 1: Birthday Cake Candles"
   ]
  },
  {
   "cell_type": "code",
   "execution_count": null,
   "id": "d111bada-0aef-4435-b2e2-52cc0067e9d8",
   "metadata": {},
   "outputs": [],
   "source": [
    "import math\n",
    "import os\n",
    "import random\n",
    "import re\n",
    "import sys\n",
    "\n",
    "#\n",
    "# Complete the 'birthdayCakeCandles' function below.\n",
    "#\n",
    "# The function is expected to return an INTEGER.\n",
    "# The function accepts INTEGER_ARRAY candles as parameter.\n",
    "#\n",
    "def birthdayCakeCandles(candles):\n",
    "    for j in range(len(candles)):\n",
    "        if 1 <= candles_count <= (10**5) and 1 <= candles[j] <=(10**7):\n",
    "            maxim = max(candles) \n",
    "            c = []\n",
    "            for i in range(0, len(candles)):\n",
    "                if candles[i] >= maxim:\n",
    "                    maxim = candles[i]\n",
    "                    c.append(maxim)\n",
    "            return(len(c))\n",
    "\n",
    "if __name__ == '__main__':\n",
    "    fptr = open(os.environ['OUTPUT_PATH'], 'w')\n",
    "\n",
    "    candles_count = int(input().strip())\n",
    "\n",
    "    candles = list(map(int, input().rstrip().split()))\n",
    "\n",
    "    result = birthdayCakeCandles(candles)\n",
    "\n",
    "    fptr.write(str(result) + '\\n')\n",
    "\n",
    "    fptr.close()"
   ]
  },
  {
   "cell_type": "markdown",
   "id": "cfeb5ccf-9f88-437c-95df-e72e5a2c1af4",
   "metadata": {},
   "source": [
    "### Ex 2: Number Line Jumps"
   ]
  },
  {
   "cell_type": "code",
   "execution_count": null,
   "id": "d4890d55-287f-45ee-b4e6-20a752d23e69",
   "metadata": {},
   "outputs": [],
   "source": [
    "#!/bin/python3\n",
    "\n",
    "import math\n",
    "import os\n",
    "import random\n",
    "import re\n",
    "import sys\n",
    "\n",
    "#\n",
    "# Complete the 'kangaroo' function below.\n",
    "#\n",
    "# The function is expected to return a STRING.\n",
    "# The function accepts following parameters:\n",
    "#  1. INTEGER x1\n",
    "#  2. INTEGER v1\n",
    "#  3. INTEGER x2\n",
    "#  4. INTEGER v2\n",
    "#\n",
    "\n",
    "def kangaroo(x1, v1, x2, v2):\n",
    "    if 0 <= x1 < x2 <= 10000 and 1 <= v1 <= 10000 and 1 <= v2 <= 10000:\n",
    "        if (v2 > v1) and (x2 > x1):\n",
    "            return \"NO\"\n",
    "        if v2 - v1 == 0:\n",
    "            return \"NO\"\n",
    "        else:\n",
    "            rest = (x1 - x2) % (v2 - v1)\n",
    "            if rest == 0:\n",
    "                return 'YES'\n",
    "            else:\n",
    "                return 'NO'\n",
    "\n",
    "if __name__ == '__main__':\n",
    "    fptr = open(os.environ['OUTPUT_PATH'], 'w')\n",
    "\n",
    "    first_multiple_input = input().rstrip().split()\n",
    "\n",
    "    x1 = int(first_multiple_input[0])\n",
    "\n",
    "    v1 = int(first_multiple_input[1])\n",
    "\n",
    "    x2 = int(first_multiple_input[2])\n",
    "\n",
    "    v2 = int(first_multiple_input[3])\n",
    "\n",
    "    result = kangaroo(x1, v1, x2, v2)\n",
    "\n",
    "    fptr.write(result + '\\n')\n",
    "\n",
    "    fptr.close()"
   ]
  },
  {
   "cell_type": "markdown",
   "id": "bf5f981d-0dbc-4550-9f8e-e99ffe7afdb0",
   "metadata": {},
   "source": [
    "### Ex 3: Viral Advertising"
   ]
  },
  {
   "cell_type": "code",
   "execution_count": null,
   "id": "22b43a1a",
   "metadata": {},
   "outputs": [],
   "source": []
  },
  {
   "cell_type": "markdown",
   "id": "cf6d31fb-ec5d-4c5e-9777-14483a151c41",
   "metadata": {},
   "source": [
    "### Ex 4: Recursive Digit Sum"
   ]
  },
  {
   "cell_type": "code",
   "execution_count": null,
   "id": "e7c5ddaf-b3e3-41e4-85f9-bd354f8a42da",
   "metadata": {},
   "outputs": [],
   "source": [
    "import math\n",
    "import os\n",
    "import random\n",
    "import re\n",
    "import sys\n",
    "\n",
    "#\n",
    "# Complete the 'superDigit' function below.\n",
    "#\n",
    "# The function is expected to return an INTEGER.\n",
    "# The function accepts following parameters:\n",
    "#  1. STRING n\n",
    "#  2. INTEGER k\n",
    "#\n",
    "\n",
    "def superDigit(n, k):\n",
    "    if 1<= len(n) < (10**100000) and 1<= k <= (10**5):\n",
    "        def sum_digits(n):\n",
    "            n_list = []\n",
    "            for i in n:\n",
    "                n_list.append(int(i))\n",
    "            s = str(sum(n_list))\n",
    "            if len(s) == 1:\n",
    "                return s\n",
    "            else:\n",
    "                return(sum_digits(s))\n",
    "        x = str(sum_digits(n)*k)\n",
    "        return(sum_digits(x))            \n",
    "\n",
    "if __name__ == '__main__':\n",
    "    fptr = open(os.environ['OUTPUT_PATH'], 'w')\n",
    "\n",
    "    first_multiple_input = input().rstrip().split()\n",
    "\n",
    "    n = first_multiple_input[0]\n",
    "\n",
    "    k = int(first_multiple_input[1])\n",
    "\n",
    "    result = superDigit(n, k)\n",
    "\n",
    "    fptr.write(str(result) + '\\n')\n",
    "\n",
    "    fptr.close()"
   ]
  },
  {
   "cell_type": "markdown",
   "id": "b1924915-ce2d-45a2-a423-ddcd4690a30e",
   "metadata": {},
   "source": [
    "### Ex 5: Insertion Sort - Part 1"
   ]
  },
  {
   "cell_type": "code",
   "execution_count": null,
   "id": "a08ce1e8-00ac-45e7-b2bc-5e3965c2cf7c",
   "metadata": {},
   "outputs": [],
   "source": [
    "#!/bin/python3\n",
    "\n",
    "import math\n",
    "import os\n",
    "import random\n",
    "import re\n",
    "import sys\n",
    "\n",
    "#\n",
    "# Complete the 'insertionSort1' function below.\n",
    "#\n",
    "# The function accepts following parameters:\n",
    "#  1. INTEGER n\n",
    "#  2. INTEGER_ARRAY arr \n",
    "\n",
    "def insertionSort1(n, arr):\n",
    "    comparator = arr[n-1]\n",
    "    for i in range(n-1,-1,-1):\n",
    "        if 1 <= n <= 1000 and -10000 <= arr[i] <= 10000:\n",
    "            if comparator < arr[i-1]:\n",
    "                arr[i] = arr[i-1]\n",
    "                #arr_new = ' '.join(str(z) for z in arr)\n",
    "                print(*arr)\n",
    "            else:\n",
    "                comparator = arr[i] #PROBS STA QUI\n",
    "                #arr_new_1 = ' '.join(str(j) for j in arr)\n",
    "                print(*arr)\n",
    "                break\n",
    "\n",
    "if __name__ == '__main__':\n",
    "    n = int(input().strip())\n",
    "\n",
    "    arr = list(map(int, input().rstrip().split()))\n",
    "\n",
    "    insertionSort1(n, arr)"
   ]
  },
  {
   "cell_type": "markdown",
   "id": "d363a540-29f0-4eee-ad55-8c6bd479f3a2",
   "metadata": {},
   "source": [
    "### Ex 6: Insertion Sort - Part 2"
   ]
  }
 ],
 "metadata": {
  "kernelspec": {
   "display_name": "Python 3 (ipykernel)",
   "language": "python",
   "name": "python3"
  },
  "language_info": {
   "codemirror_mode": {
    "name": "ipython",
    "version": 3
   },
   "file_extension": ".py",
   "mimetype": "text/x-python",
   "name": "python",
   "nbconvert_exporter": "python",
   "pygments_lexer": "ipython3",
   "version": "3.10.9"
  }
 },
 "nbformat": 4,
 "nbformat_minor": 5
}
